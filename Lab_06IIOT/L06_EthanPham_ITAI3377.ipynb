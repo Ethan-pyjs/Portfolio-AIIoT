{
 "cells": [
  {
   "cell_type": "markdown",
   "id": "de0024d4-2502-4ef1-9c23-c986f3a64a8b",
   "metadata": {},
   "source": [
    "# L06: IIoT Time Series Forecasting Lab\n",
    "- Objective:\n",
    "\n",
    "The goal of this lab is to apply time-series forecasting techniques to real-world IIoT data. You will preprocess the data, select and train appropiate models, perform feature engineering, evaluate model performance, and use generative models to enhance your dataset.\n",
    "\n",
    "- Dataset:\n",
    "\n",
    "Will be using the **IoT Temperature Forecasting** dataset on Kaggle. This dataset contains temperature sensor data from an IoT device and is suitable for time-series forecasting.\n",
    "\n",
    "Dataset Link: https://www.kaggle.com/code/koheimuramatsu/iot-temperature-forecasting"
   ]
  },
  {
   "cell_type": "markdown",
   "id": "c290ec4f-88a1-41a1-8fb1-90386edbfea8",
   "metadata": {},
   "source": [
    "## Intial EDA"
   ]
  },
  {
   "cell_type": "code",
   "execution_count": 1,
   "id": "c73ff89c-0bf0-44e0-884e-251f88796436",
   "metadata": {},
   "outputs": [
    {
     "name": "stdout",
     "output_type": "stream",
     "text": [
      "Requirement already satisfied: nixtla in c:\\anaconda3\\envs\\iiot_aoi\\lib\\site-packages (0.6.6)\n",
      "Requirement already satisfied: pandas in c:\\anaconda3\\envs\\iiot_aoi\\lib\\site-packages (2.2.3)\n",
      "Requirement already satisfied: numpy in c:\\anaconda3\\envs\\iiot_aoi\\lib\\site-packages (1.26.4)\n",
      "Requirement already satisfied: scikit-learn in c:\\anaconda3\\envs\\iiot_aoi\\lib\\site-packages (1.6.1)\n",
      "Requirement already satisfied: mlforecast in c:\\anaconda3\\envs\\iiot_aoi\\lib\\site-packages (1.0.2)\n",
      "Requirement already satisfied: matplotlib in c:\\anaconda3\\envs\\iiot_aoi\\lib\\site-packages (3.10.0)\n",
      "Requirement already satisfied: inline in c:\\anaconda3\\envs\\iiot_aoi\\lib\\site-packages (0.0.1)\n",
      "Requirement already satisfied: annotated-types in c:\\anaconda3\\envs\\iiot_aoi\\lib\\site-packages (from nixtla) (0.7.0)\n",
      "Requirement already satisfied: httpx[zstd] in c:\\anaconda3\\envs\\iiot_aoi\\lib\\site-packages (from nixtla) (0.27.0)\n",
      "Requirement already satisfied: orjson in c:\\anaconda3\\envs\\iiot_aoi\\lib\\site-packages (from nixtla) (3.10.18)\n",
      "Requirement already satisfied: pydantic>=1.10 in c:\\anaconda3\\envs\\iiot_aoi\\lib\\site-packages (from nixtla) (2.11.4)\n",
      "Requirement already satisfied: tenacity in c:\\anaconda3\\envs\\iiot_aoi\\lib\\site-packages (from nixtla) (9.1.2)\n",
      "Requirement already satisfied: tqdm in c:\\anaconda3\\envs\\iiot_aoi\\lib\\site-packages (from nixtla) (4.67.1)\n",
      "Requirement already satisfied: utilsforecast>=0.2.8 in c:\\anaconda3\\envs\\iiot_aoi\\lib\\site-packages (from nixtla) (0.2.12)\n",
      "Requirement already satisfied: python-dateutil>=2.8.2 in c:\\anaconda3\\envs\\iiot_aoi\\lib\\site-packages (from pandas) (2.9.0.post0)\n",
      "Requirement already satisfied: pytz>=2020.1 in c:\\anaconda3\\envs\\iiot_aoi\\lib\\site-packages (from pandas) (2024.1)\n",
      "Requirement already satisfied: tzdata>=2022.7 in c:\\anaconda3\\envs\\iiot_aoi\\lib\\site-packages (from pandas) (2023.3)\n",
      "Requirement already satisfied: scipy>=1.6.0 in c:\\anaconda3\\envs\\iiot_aoi\\lib\\site-packages (from scikit-learn) (1.15.2)\n",
      "Requirement already satisfied: joblib>=1.2.0 in c:\\anaconda3\\envs\\iiot_aoi\\lib\\site-packages (from scikit-learn) (1.4.2)\n",
      "Requirement already satisfied: threadpoolctl>=3.1.0 in c:\\anaconda3\\envs\\iiot_aoi\\lib\\site-packages (from scikit-learn) (3.5.0)\n",
      "Requirement already satisfied: cloudpickle in c:\\anaconda3\\envs\\iiot_aoi\\lib\\site-packages (from mlforecast) (3.1.1)\n",
      "Requirement already satisfied: coreforecast>=0.0.15 in c:\\anaconda3\\envs\\iiot_aoi\\lib\\site-packages (from mlforecast) (0.0.16)\n",
      "Requirement already satisfied: fsspec in c:\\anaconda3\\envs\\iiot_aoi\\lib\\site-packages (from mlforecast) (2025.3.2)\n",
      "Requirement already satisfied: optuna in c:\\anaconda3\\envs\\iiot_aoi\\lib\\site-packages (from mlforecast) (4.3.0)\n",
      "Requirement already satisfied: contourpy>=1.0.1 in c:\\anaconda3\\envs\\iiot_aoi\\lib\\site-packages (from matplotlib) (1.3.1)\n",
      "Requirement already satisfied: cycler>=0.10 in c:\\anaconda3\\envs\\iiot_aoi\\lib\\site-packages (from matplotlib) (0.11.0)\n",
      "Requirement already satisfied: fonttools>=4.22.0 in c:\\anaconda3\\envs\\iiot_aoi\\lib\\site-packages (from matplotlib) (4.55.3)\n",
      "Requirement already satisfied: kiwisolver>=1.3.1 in c:\\anaconda3\\envs\\iiot_aoi\\lib\\site-packages (from matplotlib) (1.4.8)\n",
      "Requirement already satisfied: packaging>=20.0 in c:\\anaconda3\\envs\\iiot_aoi\\lib\\site-packages (from matplotlib) (24.2)\n",
      "Requirement already satisfied: pillow>=8 in c:\\anaconda3\\envs\\iiot_aoi\\lib\\site-packages (from matplotlib) (11.1.0)\n",
      "Requirement already satisfied: pyparsing>=2.3.1 in c:\\anaconda3\\envs\\iiot_aoi\\lib\\site-packages (from matplotlib) (3.2.0)\n",
      "Requirement already satisfied: pydantic-core==2.33.2 in c:\\anaconda3\\envs\\iiot_aoi\\lib\\site-packages (from pydantic>=1.10->nixtla) (2.33.2)\n",
      "Requirement already satisfied: typing-extensions>=4.12.2 in c:\\anaconda3\\envs\\iiot_aoi\\lib\\site-packages (from pydantic>=1.10->nixtla) (4.12.2)\n",
      "Requirement already satisfied: typing-inspection>=0.4.0 in c:\\anaconda3\\envs\\iiot_aoi\\lib\\site-packages (from pydantic>=1.10->nixtla) (0.4.0)\n",
      "Requirement already satisfied: six>=1.5 in c:\\anaconda3\\envs\\iiot_aoi\\lib\\site-packages (from python-dateutil>=2.8.2->pandas) (1.17.0)\n",
      "Requirement already satisfied: anyio in c:\\anaconda3\\envs\\iiot_aoi\\lib\\site-packages (from httpx[zstd]->nixtla) (4.7.0)\n",
      "Requirement already satisfied: certifi in c:\\anaconda3\\envs\\iiot_aoi\\lib\\site-packages (from httpx[zstd]->nixtla) (2025.1.31)\n",
      "Requirement already satisfied: httpcore==1.* in c:\\anaconda3\\envs\\iiot_aoi\\lib\\site-packages (from httpx[zstd]->nixtla) (1.0.2)\n",
      "Requirement already satisfied: idna in c:\\anaconda3\\envs\\iiot_aoi\\lib\\site-packages (from httpx[zstd]->nixtla) (3.7)\n",
      "Requirement already satisfied: sniffio in c:\\anaconda3\\envs\\iiot_aoi\\lib\\site-packages (from httpx[zstd]->nixtla) (1.3.0)\n",
      "Requirement already satisfied: h11<0.15,>=0.13 in c:\\anaconda3\\envs\\iiot_aoi\\lib\\site-packages (from httpcore==1.*->httpx[zstd]->nixtla) (0.14.0)\n",
      "Requirement already satisfied: alembic>=1.5.0 in c:\\anaconda3\\envs\\iiot_aoi\\lib\\site-packages (from optuna->mlforecast) (1.15.2)\n",
      "Requirement already satisfied: colorlog in c:\\anaconda3\\envs\\iiot_aoi\\lib\\site-packages (from optuna->mlforecast) (6.9.0)\n",
      "Requirement already satisfied: sqlalchemy>=1.4.2 in c:\\anaconda3\\envs\\iiot_aoi\\lib\\site-packages (from optuna->mlforecast) (2.0.40)\n",
      "Requirement already satisfied: PyYAML in c:\\anaconda3\\envs\\iiot_aoi\\lib\\site-packages (from optuna->mlforecast) (6.0.2)\n",
      "Requirement already satisfied: colorama in c:\\anaconda3\\envs\\iiot_aoi\\lib\\site-packages (from tqdm->nixtla) (0.4.6)\n",
      "Requirement already satisfied: Mako in c:\\anaconda3\\envs\\iiot_aoi\\lib\\site-packages (from alembic>=1.5.0->optuna->mlforecast) (1.3.10)\n",
      "Requirement already satisfied: greenlet>=1 in c:\\anaconda3\\envs\\iiot_aoi\\lib\\site-packages (from sqlalchemy>=1.4.2->optuna->mlforecast) (3.2.1)\n",
      "Requirement already satisfied: MarkupSafe>=0.9.2 in c:\\anaconda3\\envs\\iiot_aoi\\lib\\site-packages (from Mako->alembic>=1.5.0->optuna->mlforecast) (3.0.2)\n",
      "Note: you may need to restart the kernel to use updated packages.\n"
     ]
    },
    {
     "name": "stderr",
     "output_type": "stream",
     "text": [
      "WARNING: httpx 0.27.0 does not provide the extra 'zstd'\n"
     ]
    }
   ],
   "source": [
    "# Install required libraries\n",
    "%pip install nixtla pandas numpy scikit-learn mlforecast matplotlib inline\n",
    "# Installing here in the virtual environment for convenience"
   ]
  },
  {
   "cell_type": "code",
   "execution_count": 2,
   "id": "26c9c5d4-3af0-400d-8e65-67ab032960f2",
   "metadata": {},
   "outputs": [],
   "source": [
    "# Importing Libraries\n",
    "import pandas as pd\n",
    "import numpy as np\n",
    "import matplotlib.pyplot as plt\n",
    "import seaborn as sns\n",
    "\n",
    "from utilsforecast.plotting import plot_series\n",
    "\n",
    "import warnings\n",
    "warnings.filterwarnings('ignore')"
   ]
  },
  {
   "cell_type": "code",
   "execution_count": 3,
   "id": "f1322d9b-f25a-4cf8-9df1-c95e08f192ea",
   "metadata": {},
   "outputs": [
    {
     "data": {
      "text/html": [
       "<div>\n",
       "<style scoped>\n",
       "    .dataframe tbody tr th:only-of-type {\n",
       "        vertical-align: middle;\n",
       "    }\n",
       "\n",
       "    .dataframe tbody tr th {\n",
       "        vertical-align: top;\n",
       "    }\n",
       "\n",
       "    .dataframe thead th {\n",
       "        text-align: right;\n",
       "    }\n",
       "</style>\n",
       "<table border=\"1\" class=\"dataframe\">\n",
       "  <thead>\n",
       "    <tr style=\"text-align: right;\">\n",
       "      <th></th>\n",
       "      <th>id</th>\n",
       "      <th>room_id/id</th>\n",
       "      <th>noted_date</th>\n",
       "      <th>temp</th>\n",
       "      <th>out/in</th>\n",
       "    </tr>\n",
       "  </thead>\n",
       "  <tbody>\n",
       "    <tr>\n",
       "      <th>0</th>\n",
       "      <td>__export__.temp_log_196134_bd201015</td>\n",
       "      <td>Room Admin</td>\n",
       "      <td>08-12-2018 09:30</td>\n",
       "      <td>29</td>\n",
       "      <td>In</td>\n",
       "    </tr>\n",
       "    <tr>\n",
       "      <th>1</th>\n",
       "      <td>__export__.temp_log_196131_7bca51bc</td>\n",
       "      <td>Room Admin</td>\n",
       "      <td>08-12-2018 09:30</td>\n",
       "      <td>29</td>\n",
       "      <td>In</td>\n",
       "    </tr>\n",
       "    <tr>\n",
       "      <th>2</th>\n",
       "      <td>__export__.temp_log_196127_522915e3</td>\n",
       "      <td>Room Admin</td>\n",
       "      <td>08-12-2018 09:29</td>\n",
       "      <td>41</td>\n",
       "      <td>Out</td>\n",
       "    </tr>\n",
       "    <tr>\n",
       "      <th>3</th>\n",
       "      <td>__export__.temp_log_196128_be0919cf</td>\n",
       "      <td>Room Admin</td>\n",
       "      <td>08-12-2018 09:29</td>\n",
       "      <td>41</td>\n",
       "      <td>Out</td>\n",
       "    </tr>\n",
       "    <tr>\n",
       "      <th>4</th>\n",
       "      <td>__export__.temp_log_196126_d30b72fb</td>\n",
       "      <td>Room Admin</td>\n",
       "      <td>08-12-2018 09:29</td>\n",
       "      <td>31</td>\n",
       "      <td>In</td>\n",
       "    </tr>\n",
       "  </tbody>\n",
       "</table>\n",
       "</div>"
      ],
      "text/plain": [
       "                                    id  room_id/id        noted_date  temp  \\\n",
       "0  __export__.temp_log_196134_bd201015  Room Admin  08-12-2018 09:30    29   \n",
       "1  __export__.temp_log_196131_7bca51bc  Room Admin  08-12-2018 09:30    29   \n",
       "2  __export__.temp_log_196127_522915e3  Room Admin  08-12-2018 09:29    41   \n",
       "3  __export__.temp_log_196128_be0919cf  Room Admin  08-12-2018 09:29    41   \n",
       "4  __export__.temp_log_196126_d30b72fb  Room Admin  08-12-2018 09:29    31   \n",
       "\n",
       "  out/in  \n",
       "0     In  \n",
       "1     In  \n",
       "2    Out  \n",
       "3    Out  \n",
       "4     In  "
      ]
     },
     "execution_count": 3,
     "metadata": {},
     "output_type": "execute_result"
    }
   ],
   "source": [
    "# Data Loading and Preprocessing\n",
    "df = pd.read_csv('IOT-temp.csv', parse_dates=['noted_date'])\n",
    "df.head()"
   ]
  },
  {
   "cell_type": "code",
   "execution_count": 4,
   "id": "cb5f832a-ef0d-4b36-ad13-4779fba26615",
   "metadata": {},
   "outputs": [],
   "source": [
    "# Rename & Drop Columns\n",
    "df2 = df.rename(columns={'id':'unique_id','noted_date':'ds','temp':'y'}, inplace=True)\n",
    "df2 = df.drop(columns=['room_id/id','out/in'])\n",
    "\n",
    "# Convert ds value into datetime format\n",
    "df2['ds'] = pd.to_datetime(df2['ds'], format='%d-%m-%Y %H:%M')"
   ]
  },
  {
   "cell_type": "code",
   "execution_count": 5,
   "id": "abfbba22-36aa-4a9d-91a7-967e140fc620",
   "metadata": {},
   "outputs": [
    {
     "data": {
      "text/html": [
       "<div>\n",
       "<style scoped>\n",
       "    .dataframe tbody tr th:only-of-type {\n",
       "        vertical-align: middle;\n",
       "    }\n",
       "\n",
       "    .dataframe tbody tr th {\n",
       "        vertical-align: top;\n",
       "    }\n",
       "\n",
       "    .dataframe thead th {\n",
       "        text-align: right;\n",
       "    }\n",
       "</style>\n",
       "<table border=\"1\" class=\"dataframe\">\n",
       "  <thead>\n",
       "    <tr style=\"text-align: right;\">\n",
       "      <th></th>\n",
       "      <th>unique_id</th>\n",
       "      <th>ds</th>\n",
       "      <th>y</th>\n",
       "    </tr>\n",
       "  </thead>\n",
       "  <tbody>\n",
       "    <tr>\n",
       "      <th>0</th>\n",
       "      <td>__export__.temp_log_196134_bd201015</td>\n",
       "      <td>2018-12-08 09:30:00</td>\n",
       "      <td>29</td>\n",
       "    </tr>\n",
       "    <tr>\n",
       "      <th>1</th>\n",
       "      <td>__export__.temp_log_196131_7bca51bc</td>\n",
       "      <td>2018-12-08 09:30:00</td>\n",
       "      <td>29</td>\n",
       "    </tr>\n",
       "    <tr>\n",
       "      <th>2</th>\n",
       "      <td>__export__.temp_log_196127_522915e3</td>\n",
       "      <td>2018-12-08 09:29:00</td>\n",
       "      <td>41</td>\n",
       "    </tr>\n",
       "    <tr>\n",
       "      <th>3</th>\n",
       "      <td>__export__.temp_log_196128_be0919cf</td>\n",
       "      <td>2018-12-08 09:29:00</td>\n",
       "      <td>41</td>\n",
       "    </tr>\n",
       "    <tr>\n",
       "      <th>4</th>\n",
       "      <td>__export__.temp_log_196126_d30b72fb</td>\n",
       "      <td>2018-12-08 09:29:00</td>\n",
       "      <td>31</td>\n",
       "    </tr>\n",
       "  </tbody>\n",
       "</table>\n",
       "</div>"
      ],
      "text/plain": [
       "                             unique_id                  ds   y\n",
       "0  __export__.temp_log_196134_bd201015 2018-12-08 09:30:00  29\n",
       "1  __export__.temp_log_196131_7bca51bc 2018-12-08 09:30:00  29\n",
       "2  __export__.temp_log_196127_522915e3 2018-12-08 09:29:00  41\n",
       "3  __export__.temp_log_196128_be0919cf 2018-12-08 09:29:00  41\n",
       "4  __export__.temp_log_196126_d30b72fb 2018-12-08 09:29:00  31"
      ]
     },
     "execution_count": 5,
     "metadata": {},
     "output_type": "execute_result"
    }
   ],
   "source": [
    "df2.head()"
   ]
  },
  {
   "cell_type": "code",
   "execution_count": 6,
   "id": "6a4a55fa-9947-489b-9c61-2807b0fd116c",
   "metadata": {},
   "outputs": [
    {
     "data": {
      "text/plain": [
       "unique_id\n",
       "__export__.temp_log_196108_4a983c7e    2\n",
       "__export__.temp_log_196134_bd201015    1\n",
       "__export__.temp_log_12544_1a76a951     1\n",
       "__export__.temp_log_134983_a6423bbe    1\n",
       "__export__.temp_log_127926_3ba19d7a    1\n",
       "                                      ..\n",
       "__export__.temp_log_60241_79017f66     1\n",
       "__export__.temp_log_60247_15b91351     1\n",
       "__export__.temp_log_60243_af6d035d     1\n",
       "__export__.temp_log_60245_13fc6805     1\n",
       "__export__.temp_log_133741_32958703    1\n",
       "Name: count, Length: 97605, dtype: int64"
      ]
     },
     "execution_count": 6,
     "metadata": {},
     "output_type": "execute_result"
    }
   ],
   "source": [
    "df['unique_id'].value_counts()"
   ]
  },
  {
   "cell_type": "code",
   "execution_count": 7,
   "id": "0256ca2f-efe8-4c62-a1ba-06cd622ccc09",
   "metadata": {},
   "outputs": [
    {
     "name": "stdout",
     "output_type": "stream",
     "text": [
      "True\n"
     ]
    }
   ],
   "source": [
    "print('y' in df2.columns)"
   ]
  },
  {
   "cell_type": "code",
   "execution_count": 8,
   "id": "9d0f66df-b84f-4e58-b4d9-4e8a32a151b9",
   "metadata": {},
   "outputs": [
    {
     "data": {
      "text/html": [
       "<div>\n",
       "<style scoped>\n",
       "    .dataframe tbody tr th:only-of-type {\n",
       "        vertical-align: middle;\n",
       "    }\n",
       "\n",
       "    .dataframe tbody tr th {\n",
       "        vertical-align: top;\n",
       "    }\n",
       "\n",
       "    .dataframe thead th {\n",
       "        text-align: right;\n",
       "    }\n",
       "</style>\n",
       "<table border=\"1\" class=\"dataframe\">\n",
       "  <thead>\n",
       "    <tr style=\"text-align: right;\">\n",
       "      <th></th>\n",
       "      <th>unique_id</th>\n",
       "      <th>ds</th>\n",
       "      <th>y</th>\n",
       "    </tr>\n",
       "  </thead>\n",
       "  <tbody>\n",
       "    <tr>\n",
       "      <th>11</th>\n",
       "      <td>__export__.temp_log_196108_4a983c7e</td>\n",
       "      <td>2018-12-08 09:25:00</td>\n",
       "      <td>42</td>\n",
       "    </tr>\n",
       "  </tbody>\n",
       "</table>\n",
       "</div>"
      ],
      "text/plain": [
       "                              unique_id                  ds   y\n",
       "11  __export__.temp_log_196108_4a983c7e 2018-12-08 09:25:00  42"
      ]
     },
     "execution_count": 8,
     "metadata": {},
     "output_type": "execute_result"
    }
   ],
   "source": [
    "# Check for duplicates\n",
    "df2[df2.duplicated()]"
   ]
  },
  {
   "cell_type": "code",
   "execution_count": 9,
   "id": "dadbb4fe-11c7-4eaf-9776-dcc0bbbb0af4",
   "metadata": {},
   "outputs": [],
   "source": [
    "df2.drop_duplicates(inplace=True)"
   ]
  },
  {
   "cell_type": "code",
   "execution_count": 10,
   "id": "a3aa1e73-8459-4a3e-aca9-dafe7151ee0e",
   "metadata": {},
   "outputs": [
    {
     "data": {
      "text/html": [
       "<div>\n",
       "<style scoped>\n",
       "    .dataframe tbody tr th:only-of-type {\n",
       "        vertical-align: middle;\n",
       "    }\n",
       "\n",
       "    .dataframe tbody tr th {\n",
       "        vertical-align: top;\n",
       "    }\n",
       "\n",
       "    .dataframe thead th {\n",
       "        text-align: right;\n",
       "    }\n",
       "</style>\n",
       "<table border=\"1\" class=\"dataframe\">\n",
       "  <thead>\n",
       "    <tr style=\"text-align: right;\">\n",
       "      <th></th>\n",
       "      <th>unique_id</th>\n",
       "      <th>ds</th>\n",
       "      <th>y</th>\n",
       "    </tr>\n",
       "  </thead>\n",
       "  <tbody>\n",
       "    <tr>\n",
       "      <th>0</th>\n",
       "      <td>196134</td>\n",
       "      <td>2018-12-08 09:30:00</td>\n",
       "      <td>29</td>\n",
       "    </tr>\n",
       "    <tr>\n",
       "      <th>1</th>\n",
       "      <td>196131</td>\n",
       "      <td>2018-12-08 09:30:00</td>\n",
       "      <td>29</td>\n",
       "    </tr>\n",
       "    <tr>\n",
       "      <th>2</th>\n",
       "      <td>196127</td>\n",
       "      <td>2018-12-08 09:29:00</td>\n",
       "      <td>41</td>\n",
       "    </tr>\n",
       "  </tbody>\n",
       "</table>\n",
       "</div>"
      ],
      "text/plain": [
       "   unique_id                  ds   y\n",
       "0     196134 2018-12-08 09:30:00  29\n",
       "1     196131 2018-12-08 09:30:00  29\n",
       "2     196127 2018-12-08 09:29:00  41"
      ]
     },
     "execution_count": 10,
     "metadata": {},
     "output_type": "execute_result"
    }
   ],
   "source": [
    "# Adding a more simple numeric identifier for unique_id\n",
    "df2['unique_id'] = df2['unique_id'].apply(lambda x : int(x.split('_')[6]))\n",
    "df2.head(3)"
   ]
  },
  {
   "cell_type": "code",
   "execution_count": 11,
   "id": "b617ba7b-defe-4936-a7b1-78eae3f0f60d",
   "metadata": {},
   "outputs": [
    {
     "data": {
      "text/plain": [
       "Text(0, 0.5, 'Temp')"
      ]
     },
     "execution_count": 11,
     "metadata": {},
     "output_type": "execute_result"
    },
    {
     "data": {
      "image/png": "[encoded data removed]",
      "text/plain": [
       "<Figure size 1500x800 with 1 Axes>"
      ]
     },
     "metadata": {},
     "output_type": "display_data"
    }
   ],
   "source": [
    "# Lets Visualize it\n",
    "import matplotlib.dates as mdates\n",
    "\n",
    "plt.figure(figsize=(15, 8))\n",
    "plt.plot(df2['ds'], df2['y'], linewidth=1)\n",
    "\n",
    "# Improve date formatting on x-axis\n",
    "plt.gca().xaxis.set_major_formatter(mdates.DateFormatter('%Y-%m-%d'))\n",
    "plt.gca().xaxis.set_major_locator(mdates.MonthLocator())\n",
    "plt.gcf().autofmt_xdate()  # Rotate date labels\n",
    "\n",
    "# Add titles and labels\n",
    "plt.title('Time Series Data (July-December 2018)', fontsize=14)\n",
    "plt.xlabel('Date', fontsize=12)\n",
    "plt.ylabel('Temp', fontsize=12)"
   ]
  },
  {
   "cell_type": "markdown",
   "id": "5f4a164e-72f1-49df-aa24-a768dc11c913",
   "metadata": {},
   "source": [
    "## Model Training using MLForecast from Nixtla"
   ]
  },
  {
   "cell_type": "code",
   "execution_count": 12,
   "id": "50deddb9-1c27-496c-b3d1-9a22c5166868",
   "metadata": {},
   "outputs": [
    {
     "name": "stdout",
     "output_type": "stream",
     "text": [
      "Requirement already satisfied: lightgbm in c:\\anaconda3\\envs\\iiot_aoi\\lib\\site-packages (4.6.0)\n",
      "Requirement already satisfied: xgboost in c:\\anaconda3\\envs\\iiot_aoi\\lib\\site-packages (3.0.0)\n",
      "Requirement already satisfied: numpy>=1.17.0 in c:\\anaconda3\\envs\\iiot_aoi\\lib\\site-packages (from lightgbm) (1.26.4)\n",
      "Requirement already satisfied: scipy in c:\\anaconda3\\envs\\iiot_aoi\\lib\\site-packages (from lightgbm) (1.15.2)\n",
      "Note: you may need to restart the kernel to use updated packages.\n"
     ]
    }
   ],
   "source": [
    "# installing new libraries\n",
    "%pip install lightgbm xgboost"
   ]
  },
  {
   "cell_type": "code",
   "execution_count": 13,
   "id": "9524aae4-521e-40c0-aa51-9eab1904e66d",
   "metadata": {},
   "outputs": [],
   "source": [
    "# importing new libraries\n",
    "import random\n",
    "import tempfile\n",
    "\n",
    "import lightgbm as lgb\n",
    "import xgboost as xgb\n",
    "from sklearn.linear_model import LinearRegression\n",
    "from utilsforecast.feature_engineering import time_features\n",
    "\n",
    "from mlforecast.lag_transforms import ExpandingMean, ExponentiallyWeightedMean, RollingMean\n",
    "from mlforecast.lgb_cv import LightGBMCV\n",
    "from mlforecast.target_transforms import Differences, LocalStandardScaler\n",
    "from mlforecast.utils import generate_daily_series"
   ]
  },
  {
   "cell_type": "code",
   "execution_count": 14,
   "id": "10645f43-a8c1-4928-b20b-624a8e98d7c9",
   "metadata": {},
   "outputs": [
    {
     "data": {
      "text/html": [
       "<div>\n",
       "<style scoped>\n",
       "    .dataframe tbody tr th:only-of-type {\n",
       "        vertical-align: middle;\n",
       "    }\n",
       "\n",
       "    .dataframe tbody tr th {\n",
       "        vertical-align: top;\n",
       "    }\n",
       "\n",
       "    .dataframe thead th {\n",
       "        text-align: right;\n",
       "    }\n",
       "</style>\n",
       "<table border=\"1\" class=\"dataframe\">\n",
       "  <thead>\n",
       "    <tr style=\"text-align: right;\">\n",
       "      <th></th>\n",
       "      <th>unique_id</th>\n",
       "      <th>ds</th>\n",
       "      <th>y</th>\n",
       "    </tr>\n",
       "  </thead>\n",
       "  <tbody>\n",
       "    <tr>\n",
       "      <th>25272</th>\n",
       "      <td>66671</td>\n",
       "      <td>2018-10-18 03:14:00</td>\n",
       "      <td>36</td>\n",
       "    </tr>\n",
       "    <tr>\n",
       "      <th>41050</th>\n",
       "      <td>53818</td>\n",
       "      <td>2018-10-17 13:47:00</td>\n",
       "      <td>40</td>\n",
       "    </tr>\n",
       "    <tr>\n",
       "      <th>73981</th>\n",
       "      <td>7809</td>\n",
       "      <td>2018-09-10 20:59:00</td>\n",
       "      <td>27</td>\n",
       "    </tr>\n",
       "    <tr>\n",
       "      <th>82420</th>\n",
       "      <td>136436</td>\n",
       "      <td>2018-09-10 08:31:00</td>\n",
       "      <td>31</td>\n",
       "    </tr>\n",
       "  </tbody>\n",
       "</table>\n",
       "</div>"
      ],
      "text/plain": [
       "       unique_id                  ds   y\n",
       "25272      66671 2018-10-18 03:14:00  36\n",
       "41050      53818 2018-10-17 13:47:00  40\n",
       "73981       7809 2018-09-10 20:59:00  27\n",
       "82420     136436 2018-09-10 08:31:00  31"
      ]
     },
     "execution_count": 14,
     "metadata": {},
     "output_type": "execute_result"
    }
   ],
   "source": [
    "# Prepping the Data\n",
    "ids = df2['unique_id'].unique()\n",
    "random.seed(0)\n",
    "sample_ids = random.choices(ids, k=4)\n",
    "sample_df = df2[df2['unique_id'].isin(sample_ids)]\n",
    "sample_df"
   ]
  },
  {
   "cell_type": "code",
   "execution_count": 15,
   "id": "4dd37f93-8cd6-4962-a286-b28f8e8e2a4a",
   "metadata": {},
   "outputs": [
    {
     "data": {
      "text/plain": [
       "((0, 3), (4, 3))"
      ]
     },
     "execution_count": 15,
     "metadata": {},
     "output_type": "execute_result"
    }
   ],
   "source": [
    "    # Split the data into train and validation\n",
    "    horizon = 48\n",
    "    valid = sample_df.groupby('unique_id').tail(horizon)\n",
    "    train = sample_df.drop(valid.index)\n",
    "    train.shape, valid.shape"
   ]
  },
  {
   "cell_type": "code",
   "execution_count": 22,
   "id": "09b19238-c6e8-4680-92d3-a450661e02d4",
   "metadata": {},
   "outputs": [
    {
     "name": "stdout",
     "output_type": "stream",
     "text": [
      "Full dataset shape: (97606, 5)\n",
      "Number of unique rooms: 97605\n",
      "Date range: 01-11-2018 00:06 to 31-10-2018 23:57\n"
     ]
    }
   ],
   "source": [
    "# Examine the dataset size based on room IDs\n",
    "print(\"Full dataset shape:\", df.shape)\n",
    "print(\"Number of unique rooms:\", df['unique_id'].nunique())\n",
    "print(\"Date range:\", df['ds'].min(), \"to\", df['ds'].max())"
   ]
  },
  {
   "cell_type": "code",
   "execution_count": 23,
   "id": "c3f23eab-0583-4f1c-b206-037208fb795d",
   "metadata": {},
   "outputs": [
    {
     "name": "stdout",
     "output_type": "stream",
     "text": [
      "Number of rooms with at least 100 observations: 0\n"
     ]
    }
   ],
   "source": [
    "# Filter rooms with sufficient data (at least 100 observations)\n",
    "room_counts = df.groupby('unique_id').size()\n",
    "valid_rooms = room_counts[room_counts >= 100].index.tolist()\n",
    "print(f\"Number of rooms with at least 100 observations: {len(valid_rooms)}\")"
   ]
  },
  {
   "cell_type": "code",
   "execution_count": 25,
   "id": "f0459897-4214-41ec-8450-e1af8309644d",
   "metadata": {},
   "outputs": [
    {
     "name": "stdout",
     "output_type": "stream",
     "text": [
      "Analysis dataset shape: (0, 5)\n"
     ]
    }
   ],
   "source": [
    "# Select data from rooms with sufficient observations\n",
    "analysis_df = df[df['unique_id'].isin(valid_rooms)]\n",
    "print(\"Analysis dataset shape:\", analysis_df.shape)\n",
    "\n",
    "# Sort by unique_id and timestamp to ensure proper time series ordering\n",
    "analysis_df = analysis_df.sort_values(['unique_id', 'ds'])"
   ]
  },
  {
   "cell_type": "code",
   "execution_count": 26,
   "id": "47052550-ecfe-42bf-9cbd-178552d0aeba",
   "metadata": {},
   "outputs": [
    {
     "name": "stdout",
     "output_type": "stream",
     "text": [
      "\n",
      "Checking time intervals:\n"
     ]
    }
   ],
   "source": [
    "# Check for missing timestamps or irregular intervals\n",
    "print(\"\\nChecking time intervals:\")\n",
    "interval_stats = []\n",
    "for room in valid_rooms[:5]:  # Check first 5 rooms\n",
    "    room_data = analysis_df[analysis_df['unique_id'] == room]\n",
    "    if len(room_data) > 1:\n",
    "        # Calculate time differences between consecutive timestamps\n",
    "        time_diffs = room_data['ds'].diff().dropna()\n",
    "        # Convert to minutes for readability\n",
    "        mins = time_diffs.dt.total_seconds() / 60\n",
    "        interval_stats.append({\n",
    "            'room': room,\n",
    "            'count': len(room_data),\n",
    "            'min_interval_mins': mins.min(),\n",
    "            'median_interval_mins': mins.median(),\n",
    "            'max_interval_mins': mins.max()\n",
    "        })"
   ]
  },
  {
   "cell_type": "code",
   "execution_count": 27,
   "id": "c8a40bba-226c-4d31-a452-be8ddf97dbf4",
   "metadata": {},
   "outputs": [
    {
     "name": "stdout",
     "output_type": "stream",
     "text": [
      "Empty DataFrame\n",
      "Columns: []\n",
      "Index: []\n"
     ]
    }
   ],
   "source": [
    "# Display interval statistics\n",
    "interval_df = pd.DataFrame(interval_stats)\n",
    "print(interval_df)"
   ]
  },
  {
   "cell_type": "code",
   "execution_count": 28,
   "id": "655d0fb0-2b89-4f8a-81ed-731aaaca1103",
   "metadata": {},
   "outputs": [
    {
     "name": "stdout",
     "output_type": "stream",
     "text": [
      "\n",
      "Selected top 5 rooms for analysis: ['__export__.temp_log_196108_4a983c7e', '__export__.temp_log_100004_ea0b9f21', '__export__.temp_log_100005_f908c997', '__export__.temp_log_100007_e9852112', '__export__.temp_log_100009_51bd5a46']\n"
     ]
    }
   ],
   "source": [
    "top_rooms = room_counts.nlargest(5).index.tolist()\n",
    "print(f\"\\nSelected top {len(top_rooms)} rooms for analysis: {top_rooms}\")"
   ]
  },
  {
   "cell_type": "code",
   "execution_count": 29,
   "id": "38954f05-9548-4466-8d67-3f04344cea9b",
   "metadata": {},
   "outputs": [
    {
     "name": "stdout",
     "output_type": "stream",
     "text": [
      "Sample dataset shape: (0, 5)\n"
     ]
    }
   ],
   "source": [
    "# Create a smaller dataset with just these rooms\n",
    "sample_df = analysis_df[analysis_df['unique_id'].isin(top_rooms)].copy()\n",
    "print(\"Sample dataset shape:\", sample_df.shape)"
   ]
  },
  {
   "cell_type": "code",
   "execution_count": null,
   "id": "4f2957f5-6a2c-4cf1-aa51-31deb3dd8894",
   "metadata": {},
   "outputs": [],
   "source": []
  }
 ],
 "metadata": {
  "kernelspec": {
   "display_name": "Python 3 (ipykernel)",
   "language": "python",
   "name": "python3"
  },
  "language_info": {
   "codemirror_mode": {
    "name": "ipython",
    "version": 3
   },
   "file_extension": ".py",
   "mimetype": "text/x-python",
   "name": "python",
   "nbconvert_exporter": "python",
   "pygments_lexer": "ipython3",
   "version": "3.11.11"
  }
 },
 "nbformat": 4,
 "nbformat_minor": 5
}
